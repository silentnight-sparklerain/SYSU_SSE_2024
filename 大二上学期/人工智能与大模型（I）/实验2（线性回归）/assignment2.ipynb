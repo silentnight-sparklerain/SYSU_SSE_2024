{
 "cells": [
  {
   "cell_type": "markdown",
   "id": "a1a323a84cb9cdf6",
   "metadata": {},
   "source": [
    "# 线性回归"
   ]
  },
  {
   "cell_type": "markdown",
   "id": "1a8e006192b563a1",
   "metadata": {},
   "source": [
    "**<font color = blue size=4>第一部分:课堂实验</font>**"
   ]
  },
  {
   "cell_type": "markdown",
   "id": "30f08b6e77c307c8",
   "metadata": {},
   "source": [
    "首次使用，需要下载对应的库 <br/>\n",
    "\n",
    "使用pip在终端或者命令提示符下载 <br/>\n",
    "pip install pandas\n",
    "\n",
    "使用Anaconda下在终端或者命令提示符载<br/>\n",
    "conda install pandas"
   ]
  },
  {
   "cell_type": "code",
   "execution_count": 1,
   "id": "8f078ee9c52a76fb",
   "metadata": {},
   "outputs": [],
   "source": [
    "import pandas as pd\n",
    "import numpy as np\n",
    "import matplotlib.pyplot as plt"
   ]
  },
  {
   "cell_type": "markdown",
   "id": "d3c193bc2120284d",
   "metadata": {},
   "source": [
    "<span style=\"color:purple\">1) 使用pandas库的read_csv()函数(可以参考[pandas的官方文档](https://pandas.pydata.org/docs/reference/api/pandas.read_csv.html))将训练数据集'train.csv'和测试数据集'test.csv'载入到Dataframe对象中。</span>"
   ]
  },
  {
   "cell_type": "markdown",
   "id": "3d294ecd3619feba",
   "metadata": {},
   "source": [
    "pd.read_csv(filepath_or_buffer,header,parse_dates,index_col) <br/>\n",
    "其中参数：<br/>\n",
    "filepath_or_buffer：输入文件的路径，可以是文件路径或者是类文件对象或者是URL<br/>\n",
    "header：用来指定哪些行作为列的标题<br/>\n",
    "parse_dates：将数据集中日期数据解析为日期格式<br/>\n",
    "index_col：用于指定哪一列作为 DataFrame 的索引<br/>\n",
    "\n",
    "<span style=\"color:grey\"> 处理日期数据，指定日期列并指定日期格式 </span> <br/>\n",
    "df = pd.read_csv('data.csv', parse_dates=['date'], dayfirst=True)"
   ]
  },
  {
   "cell_type": "code",
   "execution_count": null,
   "id": "a829ea87ca1b1dc7",
   "metadata": {},
   "outputs": [],
   "source": [
    "# Your code here\n",
    "\n",
    "\n",
    "#读取数据集\n",
    "#train_frame = pd.read_csv('train.csv')  #读取训练数据集\n",
    "#test_frame = pd.read_csv('test.csv')    #读取测试数据集\n",
    "\n",
    "\n",
    "#转化成numpy矩阵  \n",
    "#train = np.array(train_frame)\n",
    "#test = np.array(test_frame)\n",
    "\n"
   ]
  },
  {
   "cell_type": "markdown",
   "id": "cec1690251032c35",
   "metadata": {},
   "source": [
    "<span style=\"color:purple\">2) \n",
    "假设模型为一元线性回归模型$\\hat{y}=w_1x+w_0$, 损失函数为$l(w_0,w_1)=\\frac{1}{2m}\\sum_{i=1}^m(\\hat{y}^{(i)}-y^{(i)})^2$, 其中$\\hat{y}^{(i)}$表示第$i$个样本的预测标签值，$y^{(i)}$表示第$i$个样本的实际标签值, $m$为训练集中样本的个数。求出使得损失函数最小化的参数$w_0$和$w_1$。</span>"
   ]
  },
  {
   "cell_type": "markdown",
   "id": "d5713b4770f52fcc",
   "metadata": {},
   "source": [
    "**线性模型的求解方法有两个。方法①为最小二乘法，方法②为梯度下降法**  \n",
    "\n",
    "**方法①** \n",
    "\n",
    "将$l(w_0,w_1)$分别对$w_0$和$w_1$求导，得到\n",
    "$$\n",
    "\\frac{\\partial l(w_0,w_1)}{\\partial w_1}=\\frac{1}{m}\\left(w_1\\sum_{i=1}^m x^{(i)2} -\\sum_{i=1}^m (y^{(i)}-w_0)x^{(i)}\\right),\n",
    "$$\n",
    "$$\n",
    "\\frac{\\partial l(w_0,w_1)}{\\partial w_0}=\\frac{1}{m}\\left(mw_0 -\\sum_{i=1}^m (y^{(i)}-w_1x^{(i)})\\right),\n",
    "$$\n",
    "令上述两式为零即可得到$w_0$和$w_1$的解析解：\n",
    "$$\n",
    "w_1=\\frac{\\sum_{i=1}^m y^{(i)} (x^{(i)}-\\bar{x})}{\\sum_{i=1}^m x^{(i)2}-\\frac{1}{m}(\\sum_{i=1}^m x^{(i)})^2},\n",
    "$$\n",
    "$$\n",
    "w_0=\\frac{1}{m}\\sum_{i=1}^m(y^{(i)}-w_1x^{(i)}),\n",
    "$$\n",
    "其中$\\bar{x}=\\frac{1}{m}\\sum_{i=1}^m x^{(i)}$为$x$的均值。\n",
    "\n",
    "**提示**\n",
    "\n",
    "1、先计算出均值\n",
    "\n",
    "2、提取出特征x和标签y\n",
    "\n",
    "3、分别计算权重w和偏置b"
   ]
  },
  {
   "cell_type": "code",
   "execution_count": null,
   "id": "66a166fbbe8e2af8",
   "metadata": {},
   "outputs": [],
   "source": [
    "#提示： 以下给出会用到的代码示例\n",
    "#（1）向量各个元素求和可使用np.sum()。示例： a =[[0, 1], [0, 5]]  np.sum(a) = 6\n",
    "#（2）两个向量坐点乘可使用a.T.dot(b)。示例：给定两个列向量 a = np.array([[1,2],[3,4]])， b = np.array([[11,12],[13,14]]), 使用 a.T.dot(b) 即可求出这两个向量的点乘\n",
    "#（3）提取矩阵的某一列，可使用a[:,n]，n>=0，即可提取第n列。例如，a[:,0]返回矩阵a的第0列。\n",
    "\n",
    "# your code here\n",
    "\n"
   ]
  },
  {
   "cell_type": "markdown",
   "id": "9006ac5cea1924a8",
   "metadata": {},
   "source": [
    "**方法②：梯度下降法**   \n",
    "使用梯度下降法来进行模型的训练。  \n",
    "算法步骤如下：  \n",
    "1.初始化模型参数$w_0$和$w_1$的值；  \n",
    "2.在负梯度的方向上更新参数(批量梯度下降、小批量随机梯度下降或者随机梯度下降均可)，并不断迭代这一步骤，更新公式(以小批量随机梯度下降为例)可以写成：$$w_1\\gets w_1-\\frac{\\alpha}{\\left|B\\right|}\\sum_{i\\in{B}}x^{(i)}(w_1x^{(i)}+w_0-y^{(i)}),$$ 和$$w_0\\gets w_0-\\frac{\\alpha}{\\left|B\\right|}\\sum_{i\\in{B}}(w_1x^{(i)}+w_0-y^{(i)})，$$ 其中$\\alpha$表示学习率,$B$表示每次迭代中随机抽样的小批量，$\\left|B\\right|$则表示$B$中的样本数量。  \n",
    "3. 终止条件为迭代次数达到某一上限或者参数更新的幅度小于某个阈值。"
   ]
  },
  {
   "cell_type": "code",
   "execution_count": null,
   "id": "76d603fa750c174f",
   "metadata": {},
   "outputs": [],
   "source": [
    "# 提示：以下给出会用到的代码示例\n",
    "# （1）返回向量a的元素个数，可使用 len(a)\n",
    "# （2）遍历a中的元素进行循环：\n",
    "# for i in range(len(a))\n",
    "#   print(a[i])\n",
    "\n",
    "# Your code here\n",
    "\n",
    "\n",
    "\n",
    "\n"
   ]
  },
  {
   "cell_type": "markdown",
   "id": "f79026b2b0034ca7",
   "metadata": {},
   "source": [
    "<span style=\"color:purple\">3) 使用求解出来的线性回归模型对测试数据集'test.csv'进行预测，输出可视化结果（比如用seaborn或者matplotlib等可视化库来画出测试数据的散点图以及训练好的模型函数图像）。</span>"
   ]
  },
  {
   "cell_type": "code",
   "execution_count": 6,
   "id": "724ed0c12628250d",
   "metadata": {},
   "outputs": [],
   "source": [
    "# 一个简单的示例\n",
    "# A=np.array([[1,2],[2,4],[3,6],[4,8]])\n",
    "# x = A[:, 0] #从矩阵中提取出第0列作为一个向量\n",
    "# y = A[:, 1] #从矩阵中提取出第1列作为一个向量\n",
    "# plt.plot(x, y) #画出折线图\n",
    "# y1 = np.array([2.1, 3.9, 6.2, 8.1])\n",
    "# plt.plot(x, y1, '.') #画出散点图\n",
    "# plt.show()\n",
    "\n",
    "# Your code here"
   ]
  },
  {
   "cell_type": "markdown",
   "id": "f74f00236679cfa1",
   "metadata": {},
   "source": [
    "<span style=\"color:purple\">4) \n",
    "在训练数据集'train2.csv'上，使用一个三元线性回归模型$\\hat{y}=w_0 + w_1 x_1 + w_2 x_2 + w_3 x_3$，求使得损失函数$l(w_0,w_1,w_2,w_3)=\\frac{1}{m}\\sum_{i=1}^m(\\hat{y}^{(i)}-y^{(i)})^2$最小的参数$w_0,w_1,w_2$以及$w_3$。在测试数据集'test2.csv'上进行预测，输出预测结果的均方误差$MSE(\\hat{y},y)=\\frac{1}{n}\\sum^n_{i=1}(y^{(i)}-\\hat{y}^{(i)})^2$, $n$为测试集中样本个数。</span>"
   ]
  },
  {
   "cell_type": "markdown",
   "id": "9323493f3667ef61",
   "metadata": {},
   "source": [
    "使用梯度下降法求解模型参数。算法步骤如下：  \n",
    "1.初始化模型参数$w_0,w_1,w_2,w_3$的值；  \n",
    "2.在负梯度的方向上更新参数(批量梯度下降、小批量随机梯度下降或者随机梯度下降均可)，并不断迭代这一步骤，更新公式(以小批量随机梯度下降为例)可以写成：$$w_j\\gets w_j-\\frac{\\alpha}{\\left|B\\right|}\\sum_{i\\in{B}}x_j^{(i)}(w_0 + w_1 x_1^{(i)}+w_2 x_2^{(i)}+w_3 x_3^{(i)}-y^{(i)}), j=0,1,2,3,$$ 其中$x_0^{(i)}=1$， 其中$\\alpha$表示学习率,$B$表示每次迭代中随机抽样的小批量，$\\left|B\\right|$则表示$B$中的样本数量。  \n",
    "3. 终止条件为迭代次数达到某一上限或者参数更新的幅度小于某个阈值。"
   ]
  },
  {
   "cell_type": "code",
   "execution_count": null,
   "id": "55b5e7d1c8b3d574",
   "metadata": {},
   "outputs": [],
   "source": [
    "# Your code here\n",
    "# \n",
    "\n",
    "\n",
    "\n"
   ]
  },
  {
   "cell_type": "markdown",
   "id": "9f594f374d57e9a2",
   "metadata": {},
   "source": [
    "**<font color = blue size=4>第二部分:作业提交</font>**"
   ]
  },
  {
   "cell_type": "markdown",
   "id": "4661ce5a6a9f582c",
   "metadata": {},
   "source": [
    "一、实验课下课前提交代码作为考勤\n",
    "要求:  \n",
    "1)文件格式为：学号-姓名.ipynb  \n",
    "2)【不要】提交文件夹、压缩包、数据集等无关文件，只需提交单个ipynb文件即可，如果交错请到讲台前联系助教，删掉之前的错误版本后再进行提交"
   ]
  },
  {
   "cell_type": "markdown",
   "id": "e545aaac7d3e1109",
   "metadata": {},
   "source": [
    "二、课堂课件获取地址:https://www.jianguoyun.com/p/Ddk4kPQQp5WhChiXwYcGIAA  \n",
    "实验内容获取地址:https://www.jianguoyun.com/p/DWJxtM4Qp5WhChiFwYgGIAA"
   ]
  }
 ],
 "metadata": {
  "kernelspec": {
   "display_name": "Python 3",
   "language": "python",
   "name": "python3"
  },
  "language_info": {
   "codemirror_mode": {
    "name": "ipython",
    "version": 3
   },
   "file_extension": ".py",
   "mimetype": "text/x-python",
   "name": "python",
   "nbconvert_exporter": "python",
   "pygments_lexer": "ipython3",
   "version": "3.7.0"
  }
 },
 "nbformat": 4,
 "nbformat_minor": 5
}
